{
 "cells": [
  {
   "attachments": {
    "289f8157-bfa7-48ef-b191-a2b775270c36.png": {
     "image/png": "[encoded data removed]"
    },
    "5c13f91d-f481-44be-ae58-aef068f3cbdf.png": {
     "image/png": "[encoded data removed]"
    }
   },
   "cell_type": "markdown",
   "id": "764b8561d6f5b4ba",
   "metadata": {
    "collapsed": false,
    "jupyter": {
     "outputs_hidden": false
    }
   },
   "source": [
    "***Welcome! Hello!***\n",
    "\n",
    "We are glad you're here 👏! And are excited to get you started 🚦!\n",
    "\n",
    "This notebook exists to enable you to log (aka dump) some CAN traffic and to filter what is received.\n",
    "\n",
    "# How To Use\n",
    "\n",
    "It does this with `python` BUT don't worry: you don't need to know `python` to use this notebook.\n",
    "\n",
    "Start by running the cells (the jupyter name for these boxes ![image.png](attachment:5c13f91d-f481-44be-ae58-aef068f3cbdf.png)).\n",
    "\n",
    "Run all cells in both *1. Basic Imports* and *2. Scapy Setup* sections below:\n",
    "1. click the cell\n",
    "2. click the run button ![image.png](attachment:289f8157-bfa7-48ef-b191-a2b775270c36.png) (or shift+enter)\n",
    "\n",
    "Then move to the *Do the thing:* section and run those cells too 🚀!"
   ]
  },
  {
   "cell_type": "markdown",
   "id": "ca2a581c-0d07-4bd7-a77b-389689abdb5d",
   "metadata": {
    "jp-MarkdownHeadingCollapsed": true
   },
   "source": [
    "## 1. Basic Imports"
   ]
  },
  {
   "cell_type": "code",
   "execution_count": null,
   "id": "592ab2d0816777a2",
   "metadata": {
    "ExecuteTime": {
     "end_time": "2024-03-20T19:19:44.813790600Z",
     "start_time": "2024-03-20T19:19:44.796779700Z"
    },
    "collapsed": false,
    "jupyter": {
     "outputs_hidden": false
    }
   },
   "outputs": [],
   "source": [
    "import getopt\n",
    "import sys\n",
    "import signal\n",
    "import re\n",
    "import threading\n",
    "import time\n",
    "\n",
    "from IPython.core.interactiveshell import InteractiveShell\n",
    "\n",
    "InteractiveShell.ast_node_interactivity = 'all'\n",
    "\n",
    "import ipywidgets as widgets\n",
    "from ipywidgets import interact, interact_manual\n",
    "\n",
    "import pandas as pd\n",
    "import qgrid\n",
    "\n",
    "qgrid.enable()"
   ]
  },
  {
   "cell_type": "markdown",
   "id": "aac7feab6e45f1db",
   "metadata": {
    "collapsed": false,
    "jp-MarkdownHeadingCollapsed": true,
    "jupyter": {
     "outputs_hidden": false
    }
   },
   "source": [
    "## 2. `scapy` Setup\n",
    "\n",
    "We've done the basic imports. Now we need to setup `scapy` automotive CAN stuff.\n",
    "\n",
    "Just like in a `scapy` interactive session [documented here](https://scapy.readthedocs.io/en/latest/layers/automotive.html) the statements in the following cell will work to get the right stuff imported for use here in this notebook."
   ]
  },
  {
   "cell_type": "code",
   "execution_count": null,
   "id": "53803edcc92a2dcc",
   "metadata": {
    "ExecuteTime": {
     "end_time": "2024-02-25T20:47:50.401045200Z",
     "start_time": "2024-02-25T20:47:49.000959600Z"
    },
    "collapsed": false,
    "jupyter": {
     "outputs_hidden": false
    }
   },
   "outputs": [],
   "source": [
    "from scapy.all import *\n",
    "\n",
    "load_layer(\"can\")\n",
    "conf.contribs['CANSocket'] = {'use-python-can': True}\n",
    "load_contrib('cansocket')"
   ]
  },
  {
   "cell_type": "markdown",
   "id": "43b614e488ad661",
   "metadata": {
    "collapsed": false,
    "jupyter": {
     "outputs_hidden": false
    }
   },
   "source": [
    "(you may get a warning about wireshark stuff, don't worry about it)"
   ]
  },
  {
   "cell_type": "markdown",
   "id": "88ab892b-c25e-487d-b148-339436639921",
   "metadata": {
    "jp-MarkdownHeadingCollapsed": true
   },
   "source": [
    "### aside: scripting python tip"
   ]
  },
  {
   "cell_type": "markdown",
   "id": "676b474e425ce232",
   "metadata": {
    "collapsed": false,
    "jp-MarkdownHeadingCollapsed": true,
    "jupyter": {
     "outputs_hidden": false
    }
   },
   "source": [
    "BUT even though the above imports wil _work_ they aren't ideal for using a Python IDE to do development. When using those IDEs one of the primary benefits is the static analysis of the code to predict method names and arguments. To get that functionality you should use something like this instead (NB: don't run both these cells uncommented).\n",
    "\n",
    "So this cell contents would be best for making your own scripts from what's in this repo or if you're lucky enough to have an IDE that works with jupyter notebooks."
   ]
  },
  {
   "cell_type": "code",
   "execution_count": null,
   "id": "6fc1c4d5a35b329",
   "metadata": {
    "ExecuteTime": {
     "end_time": "2024-02-25T21:13:34.161074300Z",
     "start_time": "2024-02-25T21:13:34.145586400Z"
    },
    "collapsed": false,
    "jupyter": {
     "outputs_hidden": false
    }
   },
   "outputs": [],
   "source": [
    "# import scapy.libs.six as six\n",
    "# from scapy.config import conf\n",
    "# from scapy.consts import LINUX\n",
    "# from scapy.sendrecv import sniff\n",
    "#\n",
    "# if six.PY2 or not LINUX or conf.use_pypy:\n",
    "#     conf.contribs['CANSocket'] = {'use-python-can': True}\n",
    "#\n",
    "# from scapy.contrib.cansocket import CANSocket, PYTHON_CAN  # noqa: E402\n",
    "# from scapy.contrib.isotp import ISOTPSocket\n",
    "#\n",
    "# from scapy.contrib.automotive.uds import UDS\n",
    "# from scapy.supersocket import SuperSocket"
   ]
  },
  {
   "cell_type": "markdown",
   "id": "1c45bfc3-e6be-4e73-9293-ab8a6751c88d",
   "metadata": {},
   "source": [
    "# Do the thing: CAN Logging"
   ]
  },
  {
   "attachments": {
    "ea747f24-5815-469b-800e-976c20bbaa12.png": {
     "image/png": "[encoded data removed]"
    }
   },
   "cell_type": "markdown",
   "id": "d4eca464-a2d5-4877-b3d8-434a41797035",
   "metadata": {},
   "source": [
    "These next cells create 'interactive' elements where you can change settings and repeat the can log.\n",
    "\n",
    "Run the cell and you will see the interactive part ![image.png](attachment:ea747f24-5815-469b-800e-976c20bbaa12.png)\n",
    "* interface: set to the python-can interface setting (-i argument on command line)\n",
    "* channel: set to the python-can channel setting (-c argument on command line)\n",
    "\n",
    "e.g. 'slcan' + \"COM27' or 'cantact' + '0'\n",
    "\n",
    "* count: set to the number of can frames to capture. The maximum is capped at 1000 but can be increased. The default is 50% of the maximum , which you may want to reduce for the first test.\n",
    "\n",
    "Configure those settings and then click 'Run Interact'\n",
    "\n",
    "This one prints in 'candump format.'\n"
   ]
  },
  {
   "cell_type": "code",
   "execution_count": null,
   "id": "eea12eb2-14ef-4eb4-a7b3-cf9445afa9f2",
   "metadata": {},
   "outputs": [],
   "source": [
    "@interact_manual\n",
    "def canlog(interface='cantact', channel='0', count=(0, 1000, 4)):\n",
    "    with CANSocket(interface=interface, channel=channel) as csock:\n",
    "        sniff(count=count, opened_socket=csock,\n",
    "              prn=lambda pkt: print(f'({pkt.time:010.06f}) {interface}{channel} {pkt.identifier:03x}#{pkt.data.hex()}'))"
   ]
  },
  {
   "cell_type": "markdown",
   "id": "c073468f-acd9-403c-baec-5e6c1f061fe6",
   "metadata": {},
   "source": [
    "you may get warnings about \"SocketWrapper was not properly shut down\"; that's ok"
   ]
  },
  {
   "cell_type": "markdown",
   "id": "5bd82eb0-e5b3-437b-bee6-a52ed9ee411d",
   "metadata": {},
   "source": [
    "---\n",
    "\n",
    "This next one will display an interactive table of the captured CAN frames.\n",
    "\n",
    "Same as above: run the cell and then you can adjust the interface, channel, and count settings and repeat the capture with the `run interact` button."
   ]
  },
  {
   "cell_type": "code",
   "execution_count": null,
   "id": "ceae8bc9-af21-44ce-b110-bc133ea97810",
   "metadata": {},
   "outputs": [],
   "source": [
    "@interact_manual\n",
    "def canlog(interface='cantact', channel='0', count=(0, 1000, 4)):\n",
    "    with CANSocket(interface=interface, channel=channel) as csock:\n",
    "        frames_list = sniff(count=count, opened_socket=csock)\n",
    "        df = pd.DataFrame({\n",
    "            'time': [getattr(pkt, 'time') for pkt in frames_list],\n",
    "            'id': [getattr(pkt, 'identifier') for pkt in frames_list],\n",
    "            'id_hex': [hex(getattr(pkt, 'identifier')) for pkt in frames_list],\n",
    "            'data': [getattr(pkt, 'data') for pkt in frames_list],\n",
    "            'data_hex': [getattr(pkt, 'data').hex() for pkt in frames_list]\n",
    "        })\n",
    "\n",
    "    display(df)"
   ]
  },
  {
   "cell_type": "markdown",
   "id": "7765c0e0-785e-45cd-97b5-b82fe0037b49",
   "metadata": {},
   "source": [
    "you may get warnings about \"SocketWrapper was not properly shut down\"; that's ok"
   ]
  },
  {
   "cell_type": "markdown",
   "id": "79c48be6-5025-428b-a12c-0955a84d6f47",
   "metadata": {
    "jp-MarkdownHeadingCollapsed": true
   },
   "source": [
    "# Appendix: Installing Dependencies"
   ]
  },
  {
   "cell_type": "markdown",
   "id": "b5fefdd4-7cd2-42fa-9300-142a671f1172",
   "metadata": {},
   "source": [
    "run these commands to install any missing packages"
   ]
  },
  {
   "cell_type": "code",
   "execution_count": null,
   "id": "e4ef20b1-a184-4a18-bfff-6d3a29defb60",
   "metadata": {},
   "outputs": [],
   "source": [
    "!pip install -U -q ipywidgets\n"
   ]
  },
  {
   "cell_type": "code",
   "execution_count": null,
   "id": "09798ccb-e68e-4a33-9968-906abffa717a",
   "metadata": {},
   "outputs": [],
   "source": [
    "!jupyter nbextension enable --py widgetsnbextension"
   ]
  },
  {
   "cell_type": "code",
   "execution_count": null,
   "id": "42252e0c-d1d8-4ddc-ab08-0608e24b864f",
   "metadata": {},
   "outputs": [],
   "source": [
    "!pip install -U pandas"
   ]
  },
  {
   "cell_type": "code",
   "execution_count": null,
   "id": "52f0a902-c9da-4de6-a2e0-57712a15d0e7",
   "metadata": {},
   "outputs": [],
   "source": [
    "!pip install -U qgridnext"
   ]
  },
  {
   "cell_type": "code",
   "execution_count": null,
   "id": "eb92dc6d-7b40-4ba3-a814-5028bcfc6d2b",
   "metadata": {},
   "outputs": [],
   "source": []
  }
 ],
 "metadata": {
  "kernelspec": {
   "display_name": "Python 3 (ipykernel)",
   "language": "python",
   "name": "python3"
  },
  "language_info": {
   "codemirror_mode": {
    "name": "ipython",
    "version": 3
   },
   "file_extension": ".py",
   "mimetype": "text/x-python",
   "name": "python",
   "nbconvert_exporter": "python",
   "pygments_lexer": "ipython3",
   "version": "3.9.7"
  }
 },
 "nbformat": 4,
 "nbformat_minor": 5
}
