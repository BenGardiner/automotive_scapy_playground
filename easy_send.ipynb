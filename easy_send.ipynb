{
 "cells": [
  {
   "attachments": {
    "289f8157-bfa7-48ef-b191-a2b775270c36.png": {
     "image/png": "[encoded data removed]"
    },
    "5c13f91d-f481-44be-ae58-aef068f3cbdf.png": {
     "image/png": "[encoded data removed]"
    }
   },
   "cell_type": "markdown",
   "id": "764b8561d6f5b4ba",
   "metadata": {
    "collapsed": false,
    "jupyter": {
     "outputs_hidden": false
    }
   },
   "source": [
    "***Welcome! Hello!***\n",
    "\n",
    "We are glad you're here 👏! And are excited to get you started 🚦!\n",
    "\n",
    "This notebook exists to enable you to send some CAN messages (and log at the same time).\n",
    "\n",
    "# How To Use\n",
    "\n",
    "It does this with `python` BUT don't worry: you don't need to know `python` to use this notebook.\n",
    "\n",
    "Start by running the cells (the jupyter name for these boxes ![image.png](attachment:5c13f91d-f481-44be-ae58-aef068f3cbdf.png)).\n",
    "\n",
    "Run all cells in both *1. Basic Imports* and *2. Scapy Setup* sections below:\n",
    "1. click the cell\n",
    "2. click the run button ![image.png](attachment:289f8157-bfa7-48ef-b191-a2b775270c36.png) (or shift+enter)\n",
    "\n",
    "Then move to the *Do the thing:* section and run those cells too 🚀!\n",
    "\n",
    "(For the lazy / impatient: you can also run all the cells with the ⏩ button on the toolbar)."
   ]
  },
  {
   "cell_type": "markdown",
   "id": "ca2a581c-0d07-4bd7-a77b-389689abdb5d",
   "metadata": {},
   "source": [
    "## 1. Basic Imports"
   ]
  },
  {
   "cell_type": "code",
   "execution_count": null,
   "id": "592ab2d0816777a2",
   "metadata": {
    "ExecuteTime": {
     "end_time": "2024-04-07T03:07:51.451075Z",
     "start_time": "2024-04-07T03:07:50.417714Z"
    },
    "jupyter": {
     "source_hidden": true
    }
   },
   "outputs": [],
   "source": [
    "import getopt\n",
    "import sys\n",
    "import signal\n",
    "import re\n",
    "import threading\n",
    "import time\n",
    "\n",
    "from IPython.core.interactiveshell import InteractiveShell\n",
    "\n",
    "InteractiveShell.ast_node_interactivity = 'all'\n",
    "\n",
    "import ipywidgets as widgets\n",
    "from ipywidgets import interact, interact_manual\n",
    "\n",
    "import binascii\n",
    "import pandas as pd\n",
    "import qgrid\n",
    "\n",
    "qgrid.enable()"
   ]
  },
  {
   "cell_type": "markdown",
   "id": "aac7feab6e45f1db",
   "metadata": {
    "collapsed": false,
    "jupyter": {
     "outputs_hidden": false
    }
   },
   "source": [
    "## 2. `scapy` Setup\n",
    "\n",
    "We've done the basic imports. Now we need to setup `scapy` automotive CAN stuff.\n",
    "\n",
    "Just like in a `scapy` interactive session [documented here](https://scapy.readthedocs.io/en/latest/layers/automotive.html) the statements in the following cell will work to get the right stuff imported for use here in this notebook."
   ]
  },
  {
   "cell_type": "code",
   "execution_count": null,
   "id": "53803edcc92a2dcc",
   "metadata": {
    "ExecuteTime": {
     "end_time": "2024-04-07T03:07:53.161235Z",
     "start_time": "2024-04-07T03:07:51.453073Z"
    },
    "jupyter": {
     "source_hidden": true
    }
   },
   "outputs": [],
   "source": [
    "from scapy.all import *\n",
    "\n",
    "load_layer(\"can\")\n",
    "conf.contribs['CANSocket'] = {'use-python-can': True}\n",
    "load_contrib('cansocket')"
   ]
  },
  {
   "cell_type": "markdown",
   "id": "43b614e488ad661",
   "metadata": {
    "collapsed": false,
    "jupyter": {
     "outputs_hidden": false
    }
   },
   "source": [
    "(you may get a warning about wireshark stuff, don't worry about it)"
   ]
  },
  {
   "cell_type": "markdown",
   "id": "1c45bfc3-e6be-4e73-9293-ab8a6751c88d",
   "metadata": {},
   "source": [
    "# Do the thing: CAN Send (and log)"
   ]
  },
  {
   "attachments": {},
   "cell_type": "markdown",
   "id": "d4eca464-a2d5-4877-b3d8-434a41797035",
   "metadata": {},
   "source": [
    "Same as before (in `easy_log.ipynb`) the next part of the notebook lets you change settings and capture CAN bus messages. Run the cell and you'll see a simple control panel:\n",
    "\n",
    "* interface: This tells the notebook how to connect to your CAN device.\n",
    "* channel: This is like the address of the specific CAN device, for slcan this is always a COM port e.g. `COM27` on Windows, `/dev/ttyUSB0` on Linux, or `/dev/cu.usbserial` on macOS.\n",
    "* count: How many messages you want to capture. It can't save more than 1000, but you can change that limit. For your first test, you might want a smaller number than the default.\n",
    "* send_can_msgs: set to the list of messages (hex_id#hex_data) you want to send\n",
    "\n",
    "Change the settings, then click 'Run Interact'.\n",
    "\n",
    "This one prints in **'candump format.'**\n"
   ]
  },
  {
   "cell_type": "code",
   "execution_count": null,
   "id": "eea12eb2-14ef-4eb4-a7b3-cf9445afa9f2",
   "metadata": {
    "ExecuteTime": {
     "end_time": "2024-04-07T03:07:53.211245Z",
     "start_time": "2024-04-07T03:07:53.163626Z"
    },
    "jupyter": {
     "source_hidden": true
    }
   },
   "outputs": [],
   "source": [
    "def candump_print(pkt, interface, channel):\n",
    "    print(\n",
    "        f'({pkt.time:010.06f}) {interface}{channel} {pkt.identifier:03x}#{pkt.data.hex().ljust(18)}  ; {str(pkt.data)}',\n",
    "        file=sys.stderr, flush=True)\n",
    "\n",
    "\n",
    "def send_can_msg(csock, send_data):\n",
    "    idn, data = send_data.split('#')\n",
    "    pkt = CAN(identifier=int(idn, 16), data=binascii.unhexlify(data))\n",
    "    csock.send(pkt)\n",
    "\n",
    "\n",
    "@interact_manual\n",
    "def canlog(interface='slcan', channel='COM29', count=(0, 1000, 4),\n",
    "           send_data_msgs=widgets.Textarea('777#0102030405060708, 777#090a0b0c0d0e0f10',\n",
    "                                           layout=widgets.Layout(width='100%', height='60px'))):\n",
    "    with CANSocket(interface=interface, channel=channel) as csock:\n",
    "        for data_msg in send_data_msgs.split(','):\n",
    "            send_can_msg(csock, data_msg)\n",
    "        sniff(count=count, opened_socket=csock,\n",
    "              prn=lambda pkt: candump_print(pkt, interface, channel))"
   ]
  },
  {
   "cell_type": "markdown",
   "id": "c073468f-acd9-403c-baec-5e6c1f061fe6",
   "metadata": {},
   "source": [
    "you may get warnings about \"SocketWrapper was not properly shut down\"; that's ok"
   ]
  },
  {
   "cell_type": "markdown",
   "id": "5bd82eb0-e5b3-437b-bee6-a52ed9ee411d",
   "metadata": {},
   "source": [
    "---\n",
    "\n",
    "This next one will display an **interactive table** of the captured CAN frames.\n",
    "\n",
    "Same as above: run the cell and then you can adjust the interface, channel, and count settings and repeat the capture with the `run interact` button."
   ]
  },
  {
   "cell_type": "code",
   "execution_count": null,
   "id": "129860ba-0f65-4040-9541-cc99ccc4b849",
   "metadata": {
    "ExecuteTime": {
     "end_time": "2024-04-07T03:07:53.267407Z",
     "start_time": "2024-04-07T03:07:53.216378Z"
    },
    "jupyter": {
     "source_hidden": true
    }
   },
   "outputs": [],
   "source": [
    "def send_can_msg(csock, send_data):\n",
    "    idn, data = send_data.split('#')\n",
    "    pkt = CAN(identifier=int(idn, 16), data=binascii.unhexlify(data))\n",
    "    csock.send(pkt)\n",
    "\n",
    "\n",
    "@interact_manual\n",
    "def canlog(interface='slcan', channel='COM29', count=(0, 1000, 4),\n",
    "           send_data_msgs=widgets.Textarea('777#0102030405060708, 777#090a0b0c0d0e0f10',\n",
    "                                           layout=widgets.Layout(width='100%', height='60px'))):\n",
    "    with CANSocket(interface=interface, channel=channel) as csock:\n",
    "        for data_msg in send_data_msgs.split(','):\n",
    "            send_can_msg(csock, data_msg)\n",
    "        frames_list = sniff(count=count, opened_socket=csock)\n",
    "        df = pd.DataFrame({\n",
    "            'time': [getattr(pkt, 'time') for pkt in frames_list],\n",
    "            'id': [getattr(pkt, 'identifier') for pkt in frames_list],\n",
    "            'id_hex': [f'{pkt.identifier:03x}' for pkt in frames_list],\n",
    "            'data': [getattr(pkt, 'data') for pkt in frames_list],\n",
    "            'data_hex': [getattr(pkt, 'data').hex() for pkt in frames_list]\n",
    "        })\n",
    "\n",
    "    display(df)"
   ]
  },
  {
   "cell_type": "markdown",
   "id": "7765c0e0-785e-45cd-97b5-b82fe0037b49",
   "metadata": {},
   "source": [
    "you may get warnings about \"SocketWrapper was not properly shut down\"; that's ok"
   ]
  },
  {
   "cell_type": "markdown",
   "id": "b5fefdd4-7cd2-42fa-9300-142a671f1172",
   "metadata": {},
   "source": [
    "if you have problems with missing imports, try uncommenting these and running the cell. These commands to install any missing packages and configure the interactive notebook extensions"
   ]
  },
  {
   "cell_type": "code",
   "execution_count": null,
   "id": "e4ef20b1-a184-4a18-bfff-6d3a29defb60",
   "metadata": {
    "jupyter": {
     "source_hidden": true
    }
   },
   "outputs": [],
   "source": [
    "# !{sys.executable} -m pip install -r requirements.txt\n",
    "\n",
    "# !{sys.executable} -m jupyter nbextension enable --py widgetsnbextension"
   ]
  }
 ],
 "metadata": {
  "kernelspec": {
   "display_name": "Python 3 (ipykernel)",
   "language": "python",
   "name": "python3"
  },
  "language_info": {
   "codemirror_mode": {
    "name": "ipython",
    "version": 3
   },
   "file_extension": ".py",
   "mimetype": "text/x-python",
   "name": "python",
   "nbconvert_exporter": "python",
   "pygments_lexer": "ipython3",
   "version": "3.9.7"
  }
 },
 "nbformat": 4,
 "nbformat_minor": 5
}
