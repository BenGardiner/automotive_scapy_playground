{
 "cells": [
  {
   "attachments": {},
   "cell_type": "markdown",
   "id": "764b8561d6f5b4ba",
   "metadata": {
    "collapsed": false,
    "jupyter": {
     "outputs_hidden": false
    }
   },
   "source": [
    "***Welcome! Hello!***\n",
    "\n",
    "We are glad you're here 👏! And are excited you're into the tough stuff 💪!\n",
    "\n",
    "This notebook exists to enable you to analyze a sequence of seed-key exchanges in a pcap containing CAN frames.\n",
    "\n",
    "What follows builds upon the things done in the `easy_*.ipynb` and `medium_*.ipynb`; if you haven't gone through those yet, do so first."
   ]
  },
  {
   "cell_type": "code",
   "execution_count": null,
   "id": "592ab2d0816777a2",
   "metadata": {
    "ExecuteTime": {
     "end_time": "2024-04-26T13:39:47.596840Z",
     "start_time": "2024-04-26T13:39:47.566557Z"
    },
    "jupyter": {
     "source_hidden": true
    }
   },
   "outputs": [],
   "source": [
    "import getopt\n",
    "import sys\n",
    "import signal\n",
    "import re\n",
    "import threading\n",
    "import time\n",
    "\n",
    "from IPython.core.interactiveshell import InteractiveShell\n",
    "from scapy.contrib.automotive.scanner.enumerator import ServiceEnumerator\n",
    "\n",
    "InteractiveShell.ast_node_interactivity = 'all'\n",
    "\n",
    "import ipywidgets as widgets\n",
    "from ipywidgets import interact, interact_manual\n",
    "\n",
    "import binascii\n",
    "import pandas as pd\n",
    "import qgrid\n",
    "\n",
    "qgrid.enable()\n",
    "\n",
    "from bokeh.plotting import figure, show\n",
    "import bokeh.io\n",
    "\n",
    "bokeh.io.reset_output()\n",
    "bokeh.io.output_notebook()"
   ]
  },
  {
   "cell_type": "code",
   "execution_count": null,
   "id": "53803edcc92a2dcc",
   "metadata": {
    "ExecuteTime": {
     "end_time": "2024-04-26T13:39:47.639169Z",
     "start_time": "2024-04-26T13:39:47.628858Z"
    },
    "jupyter": {
     "source_hidden": true
    }
   },
   "outputs": [],
   "source": [
    "from scapy.all import *\n",
    "\n",
    "load_layer(\"can\")\n",
    "conf.contribs['CANSocket'] = {'use-python-can': True}\n",
    "load_contrib('cansocket')\n",
    "load_contrib('isotp')\n",
    "load_contrib('automotive.uds')\n",
    "load_contrib('automotive.uds_scan')"
   ]
  },
  {
   "cell_type": "markdown",
   "id": "1c45bfc3-e6be-4e73-9293-ab8a6751c88d",
   "metadata": {},
   "source": [
    "# Do the thing: analyze seed key pairs"
   ]
  },
  {
   "cell_type": "markdown",
   "id": "59d8e771-6f23-4120-b774-a39ba7640570",
   "metadata": {},
   "source": [
    "You need to already have a pcap containing CAN frames with seed key exchanges, lost of them. Maybe you automated button pushes in a diagnostic tool GUI to create a large repeated sequence of DSC, DSC_PR, SA, SA_PR, SA, SA_PR UDS messages? IDK, I'm not your boss.\n",
    "\n",
    "Put the path to that pcap in the box below and push the 'Run Interact' ; you should get a table of all the diagnostic session levels, security levels, seeds and keys exchanged. If you have more than a single diagnostics session level or more than a single security level the rest of the notebook is not going to give you good results.\n",
    "\n",
    "Oh, and 🎯 this whole notebook assumes 16-bit seeds and keys, if you know you have larger ones you will need to modify things throughout."
   ]
  },
  {
   "cell_type": "code",
   "execution_count": null,
   "id": "f39d91845c72da02",
   "metadata": {
    "ExecuteTime": {
     "end_time": "2024-04-26T13:39:47.686270Z",
     "start_time": "2024-04-26T13:39:47.655165Z"
    },
    "jupyter": {
     "source_hidden": true
    }
   },
   "outputs": [],
   "source": [
    "def dataframe_of_seedkey_exchanges(msgs):\n",
    "    df = pd.DataFrame()\n",
    "    logger = logging.getLogger('dataframe_of_seedkey_exchanges')\n",
    "\n",
    "    diag_level = None\n",
    "    security_level = None\n",
    "    seed = None\n",
    "\n",
    "    diag_level_bytes = None\n",
    "    security_level_bytes = None\n",
    "    key_bytes = None\n",
    "\n",
    "    for msg in msgs:\n",
    "        if bytes(msg)[0] == 0x10 and len(msg) == 2:\n",
    "            diag_level_bytes = bytes(msg)[1:]\n",
    "            logger.debug('diag session requested level: ' + diag_level_bytes.hex())\n",
    "            diag_level = None\n",
    "            security_level = None\n",
    "            seed = None\n",
    "\n",
    "            security_level_bytes = None\n",
    "            key_bytes = None\n",
    "        elif bytes(msg)[0] == 0x50 and len(msg) == 2:\n",
    "            logger.debug('diag session confirmed')\n",
    "            diag_level = diag_level_bytes\n",
    "        elif bytes(msg)[0] == 0x67 and len(msg) == 4:\n",
    "            seed_bytes = bytes(msg)[2:6]\n",
    "            security_level_bytes = bytes(msg)[1:2]\n",
    "            logger.debug('seed seen: ' + seed_bytes.hex() + ' (level ' + security_level_bytes.hex() + ')')\n",
    "            seed = seed_bytes\n",
    "            security_level = security_level_bytes\n",
    "        elif bytes(msg)[0] == 0x27 and len(msg) == 4:\n",
    "            if security_level_bytes is None:\n",
    "                logger.error('ERROR msg out of sequence (security level not yet confirmed): ' + bytes(msg).hex())\n",
    "                continue\n",
    "\n",
    "            if bytes(msg)[1] == security_level_bytes[0] + 1:\n",
    "                key_bytes = bytes(msg)[2:6]\n",
    "                logger.debug('key  seen: ' + key_bytes.hex())\n",
    "            else:\n",
    "                logger.error('ERROR msg out of sequence (security level reply mismatch): ' + bytes(msg).hex())\n",
    "        elif bytes(msg)[0] == 0x67 and len(msg) < 4:\n",
    "            if security_level_bytes is None:\n",
    "                logger.error('ERROR msg out of sequence (security level not yet confirmed): ' + bytes(msg).hex())\n",
    "                continue\n",
    "\n",
    "            if bytes(msg)[1] == security_level_bytes[0] + 1:\n",
    "                logger.info('key confirmed')\n",
    "                key = key_bytes\n",
    "                row = pd.DataFrame({'diagnostic level (hex)': [diag_level.hex()],\n",
    "                                    'security level (hex)': [security_level.hex()],\n",
    "                                    'seed (hex)': [seed.hex()],\n",
    "                                    'key (hex)': [key.hex()]\n",
    "                                    })\n",
    "                df = pd.concat([df, row], ignore_index=True)\n",
    "            else:\n",
    "                logger.error('ERROR msg out of sequence (security level reply mismatch): ' + bytes(msg).hex())\n",
    "\n",
    "    return df\n",
    "\n",
    "\n",
    "from scapy.contrib.isotp.isotp_utils import ISOTPSession\n",
    "\n",
    "df = None\n",
    "\n",
    "\n",
    "@interact_manual\n",
    "def logread(\n",
    "        pcap_filename=\"your_pcap_or_pcapng_filepath.pcapng\"):\n",
    "    global df\n",
    "    with PcapReader(filename=pcap_filename) as csock:\n",
    "        iso_msgs = sniff(opened_socket=csock,\n",
    "                         session=ISOTPSession(use_ext_address=False))\n",
    "        msgs = iso_msgs\n",
    "\n",
    "    df = dataframe_of_seedkey_exchanges(msgs)\n",
    "\n",
    "    display(df)\n"
   ]
  },
  {
   "cell_type": "markdown",
   "id": "671fe6cb7463971f",
   "metadata": {},
   "source": [
    "Look at the pairs in that table; are there any obvious patterns? Maybe you are lucky and there is a static key? Maybe you are lucky and the seed key routine is swap-bytes?\n",
    "\n",
    "If not, it's a good idea to plot the seed-key pairs:"
   ]
  },
  {
   "cell_type": "code",
   "execution_count": null,
   "id": "7504c878ad37b3d9",
   "metadata": {
    "ExecuteTime": {
     "end_time": "2024-04-26T13:39:47.719304Z",
     "start_time": "2024-04-26T13:39:47.694265Z"
    },
    "jupyter": {
     "source_hidden": true
    }
   },
   "outputs": [],
   "source": [
    "@interact_manual\n",
    "def plotitplotitnow():\n",
    "    global df\n",
    "    integer_df = df.map(lambda x: int(x, 16))\n",
    "\n",
    "    p = figure(title=\"Seeds vs Keys (challenge response pairs)\", x_axis_label='seed (challenge)',\n",
    "               y_axis_label='key (response)')\n",
    "    p.scatter(x='seed (hex)', y='key (hex)', source=integer_df, legend_label='challenge response pairs')\n",
    "    show(p)"
   ]
  },
  {
   "cell_type": "markdown",
   "id": "12b04d1b-f6b5-4055-b1f1-4651d30504a3",
   "metadata": {},
   "source": [
    "If you are (very) lucky you see a linear relationship and you can 'fit' it to get a closed form for your seed-key routine 🥳\n",
    "\n",
    "Even if it doens't _look_ linear it may actually be a y=m*x+b relationship in modulo 16-bit math which 'wraps around' quickly enough to be non-obvious. We can test for this relationship with some z3 magic:"
   ]
  },
  {
   "cell_type": "code",
   "execution_count": null,
   "id": "f7c53400012f2831",
   "metadata": {
    "ExecuteTime": {
     "end_time": "2024-04-26T13:39:47.780981Z",
     "start_time": "2024-04-26T13:39:47.754861Z"
    },
    "jupyter": {
     "source_hidden": true
    }
   },
   "outputs": [],
   "source": [
    "from z3 import BitVec, BitVecVal, Extract, Concat, sat, Solver\n",
    "\n",
    "def check_pairs(solver, routine, pairs):\n",
    "    for challenge_val, response_val in pairs:\n",
    "        solver.push()\n",
    "        solver.add(response_val == routine(challenge_val))\n",
    "        if solver.check() != sat:\n",
    "            print(f\"invalid at seed-key pair: ({challenge_val}, {response_val})\")\n",
    "            return False\n",
    "    return True\n",
    "\n",
    "m = BitVec('m', 16)\n",
    "b = BitVec('b', 16)\n",
    "\n",
    "\n",
    "def linear_seed_key_routine(seed):\n",
    "    global m, b\n",
    "    return m * seed + b  # these are BitVec 16-bit so the math is by-default modulo 2**16\n",
    "\n",
    "@interact_manual\n",
    "def solveitsolveitnow():\n",
    "    global df\n",
    "    solver = Solver()\n",
    "    integer_df = df.map(lambda x: int(x, 16))\n",
    "    pairs_from_table = [(BitVecVal(challenge, 16), BitVecVal(response, 16))\n",
    "         for challenge, response in zip(integer_df['seed (hex)'], integer_df['key (hex)'])]\n",
    "    if check_pairs(solver, linear_seed_key_routine, pairs_from_table):\n",
    "        print(f\"{linear_seed_key_routine.__name__} is potentially valid!\")\n",
    "        print(f\"likely values: {solver.model()}\")\n",
    "    else:\n",
    "        print(f\"{linear_seed_key_routine.__name__} is invalid\")\n"
   ]
  },
  {
   "cell_type": "markdown",
   "id": "638fa606-ee50-419f-b994-6fb31ab820a0",
   "metadata": {},
   "source": [
    "If you see `linear seed key routine is potentially valid!` then you have won 🏎! You can now create a seed key routine in python like\n",
    "\n",
    "```python\n",
    "def your_winning_routine(seed):\n",
    "    m = 0x57a\n",
    "    b = 0x71c\n",
    "    return (((seed * m) % (2**16)) + b) % (2**16) \n",
    "```\n",
    "\n",
    "and use it in your own scapy code like:\n",
    "```python\n",
    "resp = isock.sr1(UDS() / UDS_DSC(diagnosticSessionType=17), timeout=14.0, retry=3)\n",
    "if resp is None:\n",
    "    print(\"ERROR: NO RESPONSE to DSC\")\n",
    "    sys.exit(1)\n",
    "print(repr(resp))\n",
    "\n",
    "resp = isock.sr1(UDS() / UDS_SA(securityAccessType=3), timeout=14.0, retry=3)\n",
    "if resp is None:\n",
    "    print(\"ERROR: NO RESPONSE to SA seed request\")\n",
    "    sys.exit(1)\n",
    "print(repr(resp))\n",
    "\n",
    "level = resp.securityAccessType\n",
    "seed = resp.securitySeed\n",
    "key = your_winning_routine(int.from_bytes(seed, byteorder=\"big\"))\n",
    "\n",
    "resp = isock.sr1(UDS()/ UDS_SA(\n",
    "        securityAccessType=level + 1,\n",
    "        securityKey=int.to_bytes(key, byteorder=\"big\", length=len(seed)),\n",
    "    ),\n",
    "    timeout=14.0,\n",
    "    retry=3,\n",
    ")\n",
    "if resp is None:\n",
    "    print(\"ERROR: NO RESPONSE to SA key request\")\n",
    "    sys.exit(1)\n",
    "print(repr(resp))\n",
    "```\n",
    "\n",
    "---\n",
    "If not, a reasonably simple next test is to see if your seed key routine is using XOR with a static key); we will do XOR of each pair (using `DataFrame`) magic:"
   ]
  },
  {
   "cell_type": "code",
   "execution_count": null,
   "id": "8291ec8b815f901f",
   "metadata": {
    "ExecuteTime": {
     "end_time": "2024-04-26T13:39:47.880099Z",
     "start_time": "2024-04-26T13:39:47.860381Z"
    },
    "jupyter": {
     "source_hidden": true
    }
   },
   "outputs": [],
   "source": [
    "@interact_manual\n",
    "def doitdoitnow():\n",
    "    global df\n",
    "    df_ints = df.map(lambda x: int(x, 16))\n",
    "    display((df_ints['seed (hex)'] ^ df_ints['key (hex)']).apply(hex))"
   ]
  },
  {
   "cell_type": "markdown",
   "id": "4a181692-8375-415e-9fb8-b2b82ef48e2d",
   "metadata": {},
   "source": [
    "If you are (very) lucky you will see a repeated number above and that means you have a static-key XOR routine. 💹"
   ]
  },
  {
   "cell_type": "markdown",
   "id": "80fb2d247fcf8b50",
   "metadata": {},
   "source": [
    "If all of those things fail then it's time to get clever... there' a lot of possible implementations of seed key exchange; check out resources online such as the code in https://github.com/jglim/UnlockECU for ideas. Or the *Security Access Testing* section in the excellent paper by the authors of automotive.scapy: Weiss, Nils & Renner, Sebastian & Mottok, Juergen & Matoušek, Václav. (2021). Automated Threat Evaluation of Automotive Diagnostic Protocols. https://d-nb.info/1257161407/34 "
   ]
  }
 ],
 "metadata": {
  "kernelspec": {
   "display_name": "Python 3 (ipykernel)",
   "language": "python",
   "name": "python3"
  },
  "language_info": {
   "codemirror_mode": {
    "name": "ipython",
    "version": 3
   },
   "file_extension": ".py",
   "mimetype": "text/x-python",
   "name": "python",
   "nbconvert_exporter": "python",
   "pygments_lexer": "ipython3",
   "version": "3.9.7"
  }
 },
 "nbformat": 4,
 "nbformat_minor": 5
}
