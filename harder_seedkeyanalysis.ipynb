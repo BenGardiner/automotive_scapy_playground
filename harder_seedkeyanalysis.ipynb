{
 "cells": [
  {
   "attachments": {},
   "cell_type": "markdown",
   "id": "764b8561d6f5b4ba",
   "metadata": {
    "collapsed": false,
    "jupyter": {
     "outputs_hidden": false
    }
   },
   "source": [
    "***Welcome! Hello!***\n",
    "\n",
    "We are glad you're here 👏! And are excited you're into the tough stuff 💪!\n",
    "\n",
    "This notebook exists to enable you to analyze a sequence of seed-key exchanges in a pcap containing CAN frames.\n",
    "\n",
    "What follows builds upon the things done in the `easy_*.ipynb` and `medium_*.ipynb`; if you haven't gone through those yet, do so first."
   ]
  },
  {
   "cell_type": "code",
   "execution_count": null,
   "id": "592ab2d0816777a2",
   "metadata": {
    "ExecuteTime": {
     "end_time": "2024-04-25T15:58:19.055231Z",
     "start_time": "2024-04-25T15:58:19.026228Z"
    },
    "jupyter": {
     "source_hidden": true
    }
   },
   "outputs": [],
   "source": [
    "import getopt\n",
    "import sys\n",
    "import signal\n",
    "import re\n",
    "import threading\n",
    "import time\n",
    "\n",
    "from IPython.core.interactiveshell import InteractiveShell\n",
    "from scapy.contrib.automotive.scanner.enumerator import ServiceEnumerator\n",
    "\n",
    "InteractiveShell.ast_node_interactivity = 'all'\n",
    "\n",
    "import ipywidgets as widgets\n",
    "from ipywidgets import interact, interact_manual\n",
    "\n",
    "import binascii\n",
    "import pandas as pd\n",
    "import qgrid\n",
    "\n",
    "qgrid.enable()\n",
    "\n",
    "from bokeh.plotting import figure, show\n",
    "import bokeh.io\n",
    "\n",
    "bokeh.io.reset_output()\n",
    "bokeh.io.output_notebook()"
   ]
  },
  {
   "cell_type": "code",
   "execution_count": null,
   "id": "53803edcc92a2dcc",
   "metadata": {
    "ExecuteTime": {
     "end_time": "2024-04-25T15:58:19.071231Z",
     "start_time": "2024-04-25T15:58:19.058232Z"
    },
    "jupyter": {
     "source_hidden": true
    }
   },
   "outputs": [],
   "source": [
    "from scapy.all import *\n",
    "\n",
    "load_layer(\"can\")\n",
    "conf.contribs['CANSocket'] = {'use-python-can': True}\n",
    "load_contrib('cansocket')\n",
    "load_contrib('isotp')\n",
    "load_contrib('automotive.uds')\n",
    "load_contrib('automotive.uds_scan')"
   ]
  },
  {
   "cell_type": "markdown",
   "id": "1c45bfc3-e6be-4e73-9293-ab8a6751c88d",
   "metadata": {},
   "source": [
    "# Do the thing: analyze seed key pairs"
   ]
  },
  {
   "cell_type": "markdown",
   "id": "59d8e771-6f23-4120-b774-a39ba7640570",
   "metadata": {},
   "source": [
    "You need to already have a pcap containing CAN frames with seed key exchanges, lost of them. Maybe you automated button pushes in a diagnostic tool GUI to create a large repeated sequence of DSC, DSC_PR, SA, SA_PR, SA, SA_PR UDS messages? IDK, I'm not your boss.\n",
    "\n",
    "Put the path to that pcap in the box below and push the 'Run Interact' ; you should get a table of all the diagnostic session levels, security levels, seeds and keys exchanged. If you have more than a single diagnostics session level or more than a single security level the rest of the notebook is not going to give you good results."
   ]
  },
  {
   "cell_type": "code",
   "execution_count": null,
   "id": "f39d91845c72da02",
   "metadata": {
    "ExecuteTime": {
     "end_time": "2024-04-25T15:58:19.133229Z",
     "start_time": "2024-04-25T15:58:19.079229Z"
    },
    "jupyter": {
     "source_hidden": true
    }
   },
   "outputs": [],
   "source": [
    "def dataframe_of_seedkey_exchanges(msgs):\n",
    "    df = pd.DataFrame()\n",
    "    logger = logging.getLogger('dataframe_of_seedkey_exchanges')\n",
    "\n",
    "    diag_level = None\n",
    "    security_level = None\n",
    "    seed = None\n",
    "\n",
    "    diag_level_bytes = None\n",
    "    security_level_bytes = None\n",
    "    key_bytes = None\n",
    "\n",
    "    for msg in msgs:\n",
    "        if bytes(msg)[0] == 0x10 and len(msg) == 2:\n",
    "            diag_level_bytes = bytes(msg)[1:]\n",
    "            logger.debug('diag session requested level: ' + diag_level_bytes.hex())\n",
    "            diag_level = None\n",
    "            security_level = None\n",
    "            seed = None\n",
    "\n",
    "            security_level_bytes = None\n",
    "            key_bytes = None\n",
    "        elif bytes(msg)[0] == 0x50 and len(msg) == 2:\n",
    "            logger.debug('diag session confirmed')\n",
    "            diag_level = diag_level_bytes\n",
    "        elif bytes(msg)[0] == 0x67 and len(msg) == 4:\n",
    "            seed_bytes = bytes(msg)[2:6]\n",
    "            security_level_bytes = bytes(msg)[1:2]\n",
    "            logger.debug('seed seen: ' + seed_bytes.hex() + ' (level ' + security_level_bytes.hex() + ')')\n",
    "            seed = seed_bytes\n",
    "            security_level = security_level_bytes\n",
    "        elif bytes(msg)[0] == 0x27 and len(msg) == 4:\n",
    "            if security_level_bytes is None:\n",
    "                logger.error('ERROR msg out of sequence (security level not yet confirmed): ' + bytes(msg).hex())\n",
    "                continue\n",
    "\n",
    "            if bytes(msg)[1] == security_level_bytes[0] + 1:\n",
    "                key_bytes = bytes(msg)[2:6]\n",
    "                logger.debug('key  seen: ' + key_bytes.hex())\n",
    "            else:\n",
    "                logger.error('ERROR msg out of sequence (security level reply mismatch): ' + bytes(msg).hex())\n",
    "        elif bytes(msg)[0] == 0x67 and len(msg) < 4:\n",
    "            if security_level_bytes is None:\n",
    "                logger.error('ERROR msg out of sequence (security level not yet confirmed): ' + bytes(msg).hex())\n",
    "                continue\n",
    "\n",
    "            if bytes(msg)[1] == security_level_bytes[0] + 1:\n",
    "                logger.info('key confirmed')\n",
    "                key = key_bytes\n",
    "                row = pd.DataFrame({'diagnostic level (hex)': [diag_level.hex()],\n",
    "                                    'security level (hex)': [security_level.hex()],\n",
    "                                    'seed (hex)': [seed.hex()],\n",
    "                                    'key (hex)': [key.hex()]\n",
    "                                    })\n",
    "                df = pd.concat([df, row], ignore_index=True)\n",
    "            else:\n",
    "                logger.error('ERROR msg out of sequence (security level reply mismatch): ' + bytes(msg).hex())\n",
    "\n",
    "    return df\n",
    "\n",
    "\n",
    "from scapy.contrib.isotp.isotp_utils import ISOTPSession\n",
    "\n",
    "df = None\n",
    "\n",
    "\n",
    "@interact_manual\n",
    "def logread(\n",
    "        pcap_filename=\"your_pcap_or_pcapng_file_path_here.pcapng\"):\n",
    "    global df\n",
    "    with PcapReader(filename=pcap_filename) as csock:\n",
    "        iso_msgs = sniff(opened_socket=csock,\n",
    "                         session=ISOTPSession(use_ext_address=False))\n",
    "        msgs = iso_msgs\n",
    "\n",
    "    df = dataframe_of_seedkey_exchanges(msgs)\n",
    "\n",
    "    display(df)\n",
    "\n",
    "    integer_df = df.map(lambda x: int(x, 16))\n",
    "\n",
    "    p = figure(title=\"Seeds vs Keys (challenge response pairs)\", x_axis_label='seed (challenge)',\n",
    "               y_axis_label='key (response)')\n",
    "    p.scatter(x='seed (hex)', y='key (hex)', source=integer_df, legend_label='challenge response pairs')\n",
    "    show(p)\n"
   ]
  },
  {
   "cell_type": "markdown",
   "id": "12b04d1b-f6b5-4055-b1f1-4651d30504a3",
   "metadata": {},
   "source": [
    "If you are (very) lucky you see a linear relationship and you can 'fit' it to get a closed form for your seed-key routine 🥳"
   ]
  },
  {
   "cell_type": "markdown",
   "id": "638fa606-ee50-419f-b994-6fb31ab820a0",
   "metadata": {},
   "source": [
    "If not, a reasonably simple next test is to see if your seed key routine is using XOR with a static key); we will do XOR of each pair (using `DataFrame`) magic:"
   ]
  },
  {
   "cell_type": "code",
   "execution_count": null,
   "id": "8291ec8b815f901f",
   "metadata": {
    "ExecuteTime": {
     "end_time": "2024-04-25T17:02:43.811451Z",
     "start_time": "2024-04-25T17:02:43.793784Z"
    },
    "jupyter": {
     "source_hidden": true
    }
   },
   "outputs": [],
   "source": [
    "@interact_manual\n",
    "def doitdoitnow():\n",
    "    global df\n",
    "    df_ints = df.map(lambda x: int(x, 16))\n",
    "    (df_ints['seed (hex)'] ^ df_ints['key (hex)']).apply(hex)"
   ]
  },
  {
   "cell_type": "markdown",
   "id": "4a181692-8375-415e-9fb8-b2b82ef48e2d",
   "metadata": {},
   "source": [
    "If you are (very) lucky you will see a repeated number above and that means you have a static-key XOR routine. 💹"
   ]
  }
 ],
 "metadata": {
  "kernelspec": {
   "display_name": "Python 3 (ipykernel)",
   "language": "python",
   "name": "python3"
  },
  "language_info": {
   "codemirror_mode": {
    "name": "ipython",
    "version": 3
   },
   "file_extension": ".py",
   "mimetype": "text/x-python",
   "name": "python",
   "nbconvert_exporter": "python",
   "pygments_lexer": "ipython3",
   "version": "3.9.7"
  }
 },
 "nbformat": 4,
 "nbformat_minor": 5
}
