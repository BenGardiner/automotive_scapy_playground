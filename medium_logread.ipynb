{
 "cells": [
  {
   "attachments": {},
   "cell_type": "markdown",
   "id": "764b8561d6f5b4ba",
   "metadata": {
    "collapsed": false,
    "jupyter": {
     "outputs_hidden": false
    }
   },
   "source": [
    "***Welcome! Hello!***\n",
    "\n",
    "We are glad you're here 👏! And are excited to get you rolling 🛣!\n",
    "\n",
    "This notebook exists to enable you read a pcap containing an ISOTP session and log/decode it.\n",
    "\n",
    "It builds on the things done in `easy_*.ipynb` so if you haven't used those yet, please start there."
   ]
  },
  {
   "cell_type": "code",
   "execution_count": null,
   "id": "592ab2d0816777a2",
   "metadata": {
    "ExecuteTime": {
     "end_time": "2024-04-25T17:40:11.616151Z",
     "start_time": "2024-04-25T17:40:10.060508Z"
    },
    "jupyter": {
     "source_hidden": true
    }
   },
   "outputs": [],
   "source": [
    "import getopt\n",
    "import sys\n",
    "import signal\n",
    "import re\n",
    "import threading\n",
    "import time\n",
    "\n",
    "from IPython.core.interactiveshell import InteractiveShell\n",
    "from scapy.contrib.automotive.scanner.enumerator import ServiceEnumerator\n",
    "\n",
    "InteractiveShell.ast_node_interactivity = 'all'\n",
    "\n",
    "import ipywidgets as widgets\n",
    "from ipywidgets import interact, interact_manual\n",
    "\n",
    "import binascii\n",
    "import pandas as pd\n",
    "import qgrid\n",
    "\n",
    "qgrid.enable()"
   ]
  },
  {
   "cell_type": "code",
   "execution_count": null,
   "id": "53803edcc92a2dcc",
   "metadata": {
    "ExecuteTime": {
     "end_time": "2024-04-25T17:40:12.073354Z",
     "start_time": "2024-04-25T17:40:11.616151Z"
    },
    "jupyter": {
     "source_hidden": true
    }
   },
   "outputs": [],
   "source": [
    "from scapy.all import *\n",
    "\n",
    "load_layer(\"can\")\n",
    "conf.contribs['CANSocket'] = {'use-python-can': True}\n",
    "load_contrib('cansocket')\n",
    "load_contrib('isotp')\n",
    "load_contrib('automotive.uds')\n",
    "load_contrib('automotive.uds_scan')"
   ]
  },
  {
   "cell_type": "markdown",
   "id": "1c45bfc3-e6be-4e73-9293-ab8a6751c88d",
   "metadata": {},
   "source": [
    "# Do the thing: Log Read"
   ]
  },
  {
   "cell_type": "markdown",
   "id": "675140ad-2a72-452a-813a-71954459d423",
   "metadata": {
    "ExecuteTime": {
     "end_time": "2024-04-25T17:40:12.089365Z",
     "start_time": "2024-04-25T17:40:12.073354Z"
    }
   },
   "source": [
    "You need to already have a pcap containing CAN frames with ISOTP, lost of them. Maybe you captured some diagnostic tool traffic?\n",
    "\n",
    "Put the path to that pcap in the box below and push the 'Run Interact' ; you should get a scapy reassembly of the ISOTP messages. \n",
    "\n",
    "🎯 if you know you have UDS you can use `ISOTPSession(..., basecls=UDS)` below and then you'll get a scapy UDS decode of the traffic!"
   ]
  },
  {
   "cell_type": "code",
   "execution_count": null,
   "id": "f39d91845c72da02",
   "metadata": {
    "ExecuteTime": {
     "end_time": "2024-04-25T17:40:44.842831Z",
     "start_time": "2024-04-25T17:40:44.813633Z"
    },
    "jupyter": {
     "source_hidden": true
    }
   },
   "outputs": [],
   "source": [
    "from scapy.contrib.automotive.uds import UDS\n",
    "from scapy.contrib.isotp.isotp_utils import ISOTPSession\n",
    "\n",
    "@interact_manual\n",
    "def logread(filename=\"your_pcap_or_pcapng_file_path_here.pcapng\"):\n",
    "  with PcapReader(filename=filename) as csock:\n",
    "        udsmsgs = sniff(opened_socket=csock,\n",
    "              session=ISOTPSession(use_ext_address=False), prn=display)\n",
    "        print(udsmsgs)\n"
   ]
  }
 ],
 "metadata": {
  "kernelspec": {
   "display_name": "Python 3 (ipykernel)",
   "language": "python",
   "name": "python3"
  },
  "language_info": {
   "codemirror_mode": {
    "name": "ipython",
    "version": 3
   },
   "file_extension": ".py",
   "mimetype": "text/x-python",
   "name": "python",
   "nbconvert_exporter": "python",
   "pygments_lexer": "ipython3",
   "version": "3.9.7"
  }
 },
 "nbformat": 4,
 "nbformat_minor": 5
}
